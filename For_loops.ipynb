{
 "cells": [
  {
   "cell_type": "code",
   "execution_count": 1,
   "id": "2aad9fa5",
   "metadata": {},
   "outputs": [],
   "source": [
    "mylist = [1,2,3,4,5,6,7,8,9,10]"
   ]
  },
  {
   "cell_type": "code",
   "execution_count": 4,
   "id": "57100dce",
   "metadata": {},
   "outputs": [
    {
     "name": "stdout",
     "output_type": "stream",
     "text": [
      "eat me\n",
      "eat me\n",
      "eat me\n",
      "eat me\n",
      "eat me\n",
      "eat me\n",
      "eat me\n",
      "eat me\n",
      "eat me\n",
      "eat me\n"
     ]
    }
   ],
   "source": [
    "for peach in mylist:\n",
    "    print('eat me')"
   ]
  },
  {
   "cell_type": "code",
   "execution_count": 7,
   "id": "4fb71180",
   "metadata": {},
   "outputs": [
    {
     "name": "stdout",
     "output_type": "stream",
     "text": [
      "odd number - 1\n",
      "2\n",
      "odd number - 3\n",
      "4\n",
      "odd number - 5\n",
      "6\n",
      "odd number - 7\n",
      "8\n",
      "odd number - 9\n",
      "10\n"
     ]
    }
   ],
   "source": [
    "for num in mylist:\n",
    "    # checking for even numbers\n",
    "    if num % 2 == 0:\n",
    "        print(num)\n",
    "    else:\n",
    "        print(f'odd number - {num}')"
   ]
  },
  {
   "cell_type": "code",
   "execution_count": 11,
   "id": "4167f409",
   "metadata": {},
   "outputs": [
    {
     "name": "stdout",
     "output_type": "stream",
     "text": [
      "55\n"
     ]
    }
   ],
   "source": [
    "list_sum = 0\n",
    "\n",
    "for num in mylist:\n",
    "    list_sum = list_sum + num\n",
    "    \n",
    "print(list_sum)"
   ]
  },
  {
   "cell_type": "code",
   "execution_count": 12,
   "id": "a0fc5aaa",
   "metadata": {},
   "outputs": [
    {
     "name": "stdout",
     "output_type": "stream",
     "text": [
      "l\n",
      "o\n",
      "v\n",
      "e\n",
      " \n",
      "p\n",
      "e\n",
      "a\n",
      "c\n",
      "h\n",
      "e\n",
      "s\n"
     ]
    }
   ],
   "source": [
    "mystring = 'love peaches'\n",
    "\n",
    "for letter in mystring:\n",
    "    print(letter)"
   ]
  },
  {
   "cell_type": "code",
   "execution_count": 13,
   "id": "8af8edf0",
   "metadata": {},
   "outputs": [
    {
     "name": "stdout",
     "output_type": "stream",
     "text": [
      "omnomnom\n",
      "omnomnom\n",
      "omnomnom\n",
      "omnomnom\n",
      "omnomnom\n",
      "omnomnom\n",
      "omnomnom\n",
      "omnomnom\n",
      "omnomnom\n",
      "omnomnom\n",
      "omnomnom\n",
      "omnomnom\n",
      "omnomnom\n",
      "omnomnom\n",
      "omnomnom\n"
     ]
    }
   ],
   "source": [
    "for _ in 'i love cherries':\n",
    "    print('omnomnom')"
   ]
  },
  {
   "cell_type": "code",
   "execution_count": 15,
   "id": "caa1fd08",
   "metadata": {},
   "outputs": [
    {
     "name": "stdout",
     "output_type": "stream",
     "text": [
      "1\n",
      "2\n",
      "3\n",
      "4\n",
      "5\n"
     ]
    }
   ],
   "source": [
    "tup = (1,2,3,4,5)\n",
    "\n",
    "for sashimi in tup:\n",
    "    print(sashimi)"
   ]
  },
  {
   "cell_type": "markdown",
   "id": "52920689",
   "metadata": {},
   "source": [
    "that was an example using a tuple, which you are at this moment striving to be more familiar with.\n",
    "what follows is an example of the unpacking attribute of tuples"
   ]
  },
  {
   "cell_type": "code",
   "execution_count": 17,
   "id": "74f1b208",
   "metadata": {},
   "outputs": [],
   "source": [
    "mylist = [(1,2),(3,4),(5,6),(7,8)]"
   ]
  },
  {
   "cell_type": "code",
   "execution_count": 18,
   "id": "2a6ef5b4",
   "metadata": {},
   "outputs": [
    {
     "data": {
      "text/plain": [
       "4"
      ]
     },
     "execution_count": 18,
     "metadata": {},
     "output_type": "execute_result"
    }
   ],
   "source": [
    "len(mylist)"
   ]
  },
  {
   "cell_type": "code",
   "execution_count": 19,
   "id": "7a1010af",
   "metadata": {},
   "outputs": [
    {
     "name": "stdout",
     "output_type": "stream",
     "text": [
      "(1, 2)\n",
      "(3, 4)\n",
      "(5, 6)\n",
      "(7, 8)\n"
     ]
    }
   ],
   "source": [
    "for item in mylist:\n",
    "    print(item)"
   ]
  },
  {
   "cell_type": "code",
   "execution_count": 24,
   "id": "392acd72",
   "metadata": {},
   "outputs": [
    {
     "name": "stdout",
     "output_type": "stream",
     "text": [
      "1\n",
      "I have 2 peaches\n",
      "3\n",
      "I have 4 peaches\n",
      "5\n",
      "I have 6 peaches\n",
      "7\n",
      "I have 8 peaches\n"
     ]
    }
   ],
   "source": [
    "for a,b in mylist:\n",
    "    print(a)\n",
    "    print(f'I have {b} peaches')"
   ]
  },
  {
   "cell_type": "code",
   "execution_count": 25,
   "id": "ef275c29",
   "metadata": {},
   "outputs": [],
   "source": [
    "mylist = [(1,2,3),(5,6,7),(8,9,10)]"
   ]
  },
  {
   "cell_type": "code",
   "execution_count": 26,
   "id": "87a149bb",
   "metadata": {},
   "outputs": [
    {
     "name": "stdout",
     "output_type": "stream",
     "text": [
      "3\n",
      "7\n",
      "10\n"
     ]
    }
   ],
   "source": [
    "for a,b,c in mylist:\n",
    "    print(c)"
   ]
  },
  {
   "cell_type": "code",
   "execution_count": 34,
   "id": "ba402a2e",
   "metadata": {},
   "outputs": [],
   "source": [
    "dictionary = {'k1':1, 'k2':2, 'k3':3}"
   ]
  },
  {
   "cell_type": "code",
   "execution_count": 35,
   "id": "43749674",
   "metadata": {},
   "outputs": [
    {
     "name": "stdout",
     "output_type": "stream",
     "text": [
      "k1\n",
      "k2\n",
      "k3\n"
     ]
    }
   ],
   "source": [
    "for cherry in dictionary:\n",
    "    print(cherry)"
   ]
  },
  {
   "cell_type": "code",
   "execution_count": 30,
   "id": "47385539",
   "metadata": {},
   "outputs": [
    {
     "name": "stdout",
     "output_type": "stream",
     "text": [
      "('k1', 1)\n",
      "('k2', 2)\n",
      "('k3', 3)\n"
     ]
    }
   ],
   "source": [
    "for cherry in dictionary.items():\n",
    "    print(cherry)"
   ]
  },
  {
   "cell_type": "code",
   "execution_count": 33,
   "id": "fafebe6d",
   "metadata": {},
   "outputs": [
    {
     "name": "stdout",
     "output_type": "stream",
     "text": [
      "1\n",
      "2\n",
      "3\n"
     ]
    }
   ],
   "source": [
    "for cherry,pit in dictionary:\n",
    "    print(pit)"
   ]
  },
  {
   "cell_type": "code",
   "execution_count": null,
   "id": "5c3dc3b2",
   "metadata": {},
   "outputs": [],
   "source": []
  }
 ],
 "metadata": {
  "kernelspec": {
   "display_name": "Python 3 (ipykernel)",
   "language": "python",
   "name": "python3"
  },
  "language_info": {
   "codemirror_mode": {
    "name": "ipython",
    "version": 3
   },
   "file_extension": ".py",
   "mimetype": "text/x-python",
   "name": "python",
   "nbconvert_exporter": "python",
   "pygments_lexer": "ipython3",
   "version": "3.11.3"
  }
 },
 "nbformat": 4,
 "nbformat_minor": 5
}

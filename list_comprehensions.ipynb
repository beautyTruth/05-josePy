{
 "cells": [
  {
   "cell_type": "code",
   "execution_count": 1,
   "id": "2e06c708",
   "metadata": {},
   "outputs": [],
   "source": [
    "basket = 'peaches'"
   ]
  },
  {
   "cell_type": "code",
   "execution_count": 2,
   "id": "29b50002",
   "metadata": {},
   "outputs": [],
   "source": [
    "omnomnom = []\n",
    "\n",
    "for peach in basket:\n",
    "    omnomnom.append(peach)"
   ]
  },
  {
   "cell_type": "code",
   "execution_count": 3,
   "id": "6737c4c1",
   "metadata": {},
   "outputs": [
    {
     "data": {
      "text/plain": [
       "['p', 'e', 'a', 'c', 'h', 'e', 's']"
      ]
     },
     "execution_count": 3,
     "metadata": {},
     "output_type": "execute_result"
    }
   ],
   "source": [
    "omnomnom"
   ]
  },
  {
   "cell_type": "code",
   "execution_count": 4,
   "id": "f2e9dcce",
   "metadata": {},
   "outputs": [],
   "source": [
    "omnomnom = [peach for peach in basket]"
   ]
  },
  {
   "cell_type": "code",
   "execution_count": 5,
   "id": "109a4b9b",
   "metadata": {},
   "outputs": [
    {
     "data": {
      "text/plain": [
       "['p', 'e', 'a', 'c', 'h', 'e', 's']"
      ]
     },
     "execution_count": 5,
     "metadata": {},
     "output_type": "execute_result"
    }
   ],
   "source": [
    "omnomnom"
   ]
  },
  {
   "cell_type": "code",
   "execution_count": 8,
   "id": "d580f588",
   "metadata": {},
   "outputs": [],
   "source": [
    "mylist = [blabityblab for blabityblab in \"gobbletygook\"]"
   ]
  },
  {
   "cell_type": "code",
   "execution_count": 7,
   "id": "b3df4756",
   "metadata": {},
   "outputs": [
    {
     "data": {
      "text/plain": [
       "['g', 'o', 'b', 'b', 'l', 'e', 't', 'y', 'g', 'o', 'o', 'k']"
      ]
     },
     "execution_count": 7,
     "metadata": {},
     "output_type": "execute_result"
    }
   ],
   "source": [
    "mylist"
   ]
  },
  {
   "cell_type": "code",
   "execution_count": 14,
   "id": "8c20db2a",
   "metadata": {},
   "outputs": [],
   "source": [
    "mylanta = [x**2 for x in range(7,17)]"
   ]
  },
  {
   "cell_type": "code",
   "execution_count": 15,
   "id": "b3df508c",
   "metadata": {},
   "outputs": [
    {
     "data": {
      "text/plain": [
       "[49, 64, 81, 100, 121, 144, 169, 196, 225, 256]"
      ]
     },
     "execution_count": 15,
     "metadata": {},
     "output_type": "execute_result"
    }
   ],
   "source": [
    "mylanta"
   ]
  },
  {
   "cell_type": "code",
   "execution_count": 16,
   "id": "7b9e1b0c",
   "metadata": {},
   "outputs": [],
   "source": [
    "mylanta = [x for x in range(7,17) if x%2==0]"
   ]
  },
  {
   "cell_type": "code",
   "execution_count": 17,
   "id": "bc0d6a0c",
   "metadata": {},
   "outputs": [
    {
     "data": {
      "text/plain": [
       "[8, 10, 12, 14, 16]"
      ]
     },
     "execution_count": 17,
     "metadata": {},
     "output_type": "execute_result"
    }
   ],
   "source": [
    "mylanta"
   ]
  },
  {
   "cell_type": "code",
   "execution_count": 18,
   "id": "841b62a9",
   "metadata": {},
   "outputs": [],
   "source": [
    "centigrade = [0,10,20,34.5]\n",
    "\n",
    "normal = [( (9/5)*hot +32) for hot in centigrade]"
   ]
  },
  {
   "cell_type": "code",
   "execution_count": 19,
   "id": "35c41694",
   "metadata": {},
   "outputs": [
    {
     "data": {
      "text/plain": [
       "[32.0, 50.0, 68.0, 94.1]"
      ]
     },
     "execution_count": 19,
     "metadata": {},
     "output_type": "execute_result"
    }
   ],
   "source": [
    "normal"
   ]
  },
  {
   "cell_type": "code",
   "execution_count": 20,
   "id": "c038415f",
   "metadata": {},
   "outputs": [],
   "source": [
    "fahrenheit = []\n",
    "\n",
    "for temp in centigrade:\n",
    "    fahrenheit.append( (9/5)*temp + 32)"
   ]
  },
  {
   "cell_type": "code",
   "execution_count": 21,
   "id": "a92d82f9",
   "metadata": {},
   "outputs": [
    {
     "data": {
      "text/plain": [
       "[32.0, 50.0, 68.0, 94.1]"
      ]
     },
     "execution_count": 21,
     "metadata": {},
     "output_type": "execute_result"
    }
   ],
   "source": [
    "fahrenheit"
   ]
  },
  {
   "cell_type": "code",
   "execution_count": null,
   "id": "eefae407",
   "metadata": {},
   "outputs": [],
   "source": []
  }
 ],
 "metadata": {
  "kernelspec": {
   "display_name": "Python 3 (ipykernel)",
   "language": "python",
   "name": "python3"
  },
  "language_info": {
   "codemirror_mode": {
    "name": "ipython",
    "version": 3
   },
   "file_extension": ".py",
   "mimetype": "text/x-python",
   "name": "python",
   "nbconvert_exporter": "python",
   "pygments_lexer": "ipython3",
   "version": "3.11.3"
  }
 },
 "nbformat": 4,
 "nbformat_minor": 5
}

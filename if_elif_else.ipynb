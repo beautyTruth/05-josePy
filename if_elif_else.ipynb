{
 "cells": [
  {
   "cell_type": "code",
   "execution_count": 6,
   "id": "a5e66a5f",
   "metadata": {},
   "outputs": [
    {
     "name": "stdout",
     "output_type": "stream",
     "text": [
      "DONT FEED ME THAT\n"
     ]
    }
   ],
   "source": [
    "hungry = False\n",
    "\n",
    "if hungry==True:\n",
    "    print('FEED ME PEACHES')\n",
    "else:\n",
    "    print('DONT FEED ME THAT')"
   ]
  },
  {
   "cell_type": "code",
   "execution_count": 10,
   "id": "f60a6f34",
   "metadata": {},
   "outputs": [
    {
     "name": "stdout",
     "output_type": "stream",
     "text": [
      "eat the peaches\n"
     ]
    }
   ],
   "source": [
    "loc = 'gym'\n",
    "\n",
    "if loc == 'dressing room':\n",
    "    print('eat the cherries')\n",
    "elif loc == 'beach':\n",
    "    print('rub lotion on peach')\n",
    "elif loc == 'garage':\n",
    "    print('drink the warm beer')\n",
    "else:\n",
    "    print('eat the peaches')"
   ]
  },
  {
   "cell_type": "code",
   "execution_count": 13,
   "id": "272abe18",
   "metadata": {},
   "outputs": [
    {
     "name": "stdout",
     "output_type": "stream",
     "text": [
      "hey whats up?\n"
     ]
    }
   ],
   "source": [
    "name = 'Obadiahie'\n",
    "\n",
    "if name == 'Miriam':\n",
    "    print('eat the peach')\n",
    "elif name == 'Heather':\n",
    "    print('run away')\n",
    "else:\n",
    "    print('hey whats up?')"
   ]
  },
  {
   "cell_type": "code",
   "execution_count": null,
   "id": "d98d7da7",
   "metadata": {},
   "outputs": [],
   "source": []
  }
 ],
 "metadata": {
  "kernelspec": {
   "display_name": "Python 3 (ipykernel)",
   "language": "python",
   "name": "python3"
  },
  "language_info": {
   "codemirror_mode": {
    "name": "ipython",
    "version": 3
   },
   "file_extension": ".py",
   "mimetype": "text/x-python",
   "name": "python",
   "nbconvert_exporter": "python",
   "pygments_lexer": "ipython3",
   "version": "3.11.3"
  }
 },
 "nbformat": 4,
 "nbformat_minor": 5
}

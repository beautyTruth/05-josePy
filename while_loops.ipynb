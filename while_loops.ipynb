{
 "cells": [
  {
   "cell_type": "code",
   "execution_count": 17,
   "id": "6de3c169",
   "metadata": {},
   "outputs": [],
   "source": [
    "peach = 0"
   ]
  },
  {
   "cell_type": "code",
   "execution_count": 18,
   "id": "955b9dcc",
   "metadata": {},
   "outputs": [
    {
     "name": "stdout",
     "output_type": "stream",
     "text": [
      "the current value of peach is 0\n",
      "the current value of peach is 1\n",
      "the current value of peach is 2\n",
      "the current value of peach is 3\n",
      "the current value of peach is 4\n",
      "peaches are not cherries\n"
     ]
    }
   ],
   "source": [
    "peach = 0\n",
    "\n",
    "while peach < 5:\n",
    "    print(f'the current value of peach is {peach}')\n",
    "\n",
    "    peach += 1\n",
    "    \n",
    "else:\n",
    "    print('peaches are not cherries')\n",
    "    "
   ]
  },
  {
   "cell_type": "code",
   "execution_count": 20,
   "id": "0bfce4f8",
   "metadata": {},
   "outputs": [
    {
     "name": "stdout",
     "output_type": "stream",
     "text": [
      "never pass up an opportunity to learn\n"
     ]
    }
   ],
   "source": [
    "ex = [1,2,3]\n",
    "\n",
    "for item in ex:\n",
    "    # a comment for illustration of the PASS keyword as a placeholder\n",
    "    \n",
    "    pass\n",
    "\n",
    "print('never pass up an opportunity to learn')"
   ]
  },
  {
   "cell_type": "code",
   "execution_count": 21,
   "id": "76499b64",
   "metadata": {},
   "outputs": [],
   "source": [
    "bikini = 'Miriam'"
   ]
  },
  {
   "cell_type": "code",
   "execution_count": 23,
   "id": "6493a50f",
   "metadata": {},
   "outputs": [
    {
     "name": "stdout",
     "output_type": "stream",
     "text": [
      "M\n",
      "r\n",
      "a\n",
      "m\n"
     ]
    }
   ],
   "source": [
    "for peach in bikini:\n",
    "    if peach == 'i':\n",
    "        \n",
    "        continue\n",
    "        \n",
    "    print(peach)"
   ]
  },
  {
   "cell_type": "code",
   "execution_count": 24,
   "id": "edec28a2",
   "metadata": {},
   "outputs": [
    {
     "name": "stdout",
     "output_type": "stream",
     "text": [
      "M\n"
     ]
    }
   ],
   "source": [
    "for peach in bikini:\n",
    "    if peach == 'i':\n",
    "        \n",
    "        break\n",
    "        \n",
    "    print(peach)"
   ]
  },
  {
   "cell_type": "code",
   "execution_count": 26,
   "id": "027937af",
   "metadata": {},
   "outputs": [
    {
     "name": "stdout",
     "output_type": "stream",
     "text": [
      "0\n",
      "1\n"
     ]
    }
   ],
   "source": [
    "ch = 0\n",
    "\n",
    "while ch < 5:\n",
    "    \n",
    "    if ch == 2:\n",
    "        break\n",
    "        \n",
    "    print(ch)\n",
    "    ch+=1"
   ]
  },
  {
   "cell_type": "code",
   "execution_count": null,
   "id": "cbb84a7a",
   "metadata": {},
   "outputs": [],
   "source": []
  }
 ],
 "metadata": {
  "kernelspec": {
   "display_name": "Python 3 (ipykernel)",
   "language": "python",
   "name": "python3"
  },
  "language_info": {
   "codemirror_mode": {
    "name": "ipython",
    "version": 3
   },
   "file_extension": ".py",
   "mimetype": "text/x-python",
   "name": "python",
   "nbconvert_exporter": "python",
   "pygments_lexer": "ipython3",
   "version": "3.11.3"
  }
 },
 "nbformat": 4,
 "nbformat_minor": 5
}

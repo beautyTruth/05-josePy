{
 "cells": [
  {
   "cell_type": "code",
   "execution_count": 1,
   "id": "47a95ec2",
   "metadata": {},
   "outputs": [],
   "source": [
    "mypeaches = [1,2,3]"
   ]
  },
  {
   "cell_type": "code",
   "execution_count": 2,
   "id": "e95d98f4",
   "metadata": {},
   "outputs": [
    {
     "name": "stdout",
     "output_type": "stream",
     "text": [
      "3\n",
      "4\n",
      "5\n",
      "6\n",
      "7\n",
      "8\n",
      "9\n"
     ]
    }
   ],
   "source": [
    "for cherry in range(3,10):\n",
    "    print(cherry)"
   ]
  },
  {
   "cell_type": "code",
   "execution_count": 5,
   "id": "4a6f8f9a",
   "metadata": {},
   "outputs": [
    {
     "name": "stdout",
     "output_type": "stream",
     "text": [
      "0\n",
      "2\n",
      "4\n",
      "6\n",
      "8\n",
      "10\n"
     ]
    }
   ],
   "source": [
    "for cherry in range(0,11,2):\n",
    "    print(cherry)"
   ]
  },
  {
   "cell_type": "code",
   "execution_count": 6,
   "id": "29b73e9b",
   "metadata": {},
   "outputs": [
    {
     "data": {
      "text/plain": [
       "[0, 2, 4, 6, 8, 10]"
      ]
     },
     "execution_count": 6,
     "metadata": {},
     "output_type": "execute_result"
    }
   ],
   "source": [
    "list(range(0,11,2))"
   ]
  },
  {
   "cell_type": "code",
   "execution_count": 11,
   "id": "589f7dee",
   "metadata": {},
   "outputs": [
    {
     "name": "stdout",
     "output_type": "stream",
     "text": [
      "At peach 0 the letter is a and I like cherries\n",
      "At peach 1 the letter is b and I like cherries\n",
      "At peach 2 the letter is c and I like cherries\n",
      "At peach 3 the letter is d and I like cherries\n",
      "At peach 4 the letter is e and I like cherries\n"
     ]
    }
   ],
   "source": [
    "peach_basket = 0\n",
    "\n",
    "for peach in 'abcde':\n",
    "    print('At peach {} the letter is {} and I like {}'.format(peach_basket,peach,'cherries'))\n",
    "    peach_basket += 1"
   ]
  },
  {
   "cell_type": "code",
   "execution_count": 12,
   "id": "4ee6d3ae",
   "metadata": {},
   "outputs": [
    {
     "name": "stdout",
     "output_type": "stream",
     "text": [
      "f\n",
      "g\n",
      "h\n",
      "i\n",
      "j\n",
      "k\n",
      "l\n"
     ]
    }
   ],
   "source": [
    "peach_basket = 0\n",
    "word = 'fghijkl'\n",
    "for peach in word:\n",
    "    print(word[peach_basket])\n",
    "    peach_basket += 1"
   ]
  },
  {
   "cell_type": "code",
   "execution_count": 15,
   "id": "6f45f7fb",
   "metadata": {},
   "outputs": [
    {
     "name": "stdout",
     "output_type": "stream",
     "text": [
      "0\n",
      "f\n",
      "\n",
      "\n",
      "1\n",
      "g\n",
      "\n",
      "\n",
      "2\n",
      "h\n",
      "\n",
      "\n",
      "3\n",
      "i\n",
      "\n",
      "\n",
      "4\n",
      "j\n",
      "\n",
      "\n",
      "5\n",
      "k\n",
      "\n",
      "\n",
      "6\n",
      "l\n",
      "\n",
      "\n"
     ]
    }
   ],
   "source": [
    "\n",
    "word = 'fghijkl'\n",
    "for peach,cherry in enumerate(word):\n",
    "    print(peach)\n",
    "    print(cherry)\n",
    "    print('\\n')\n",
    "    "
   ]
  },
  {
   "cell_type": "code",
   "execution_count": 16,
   "id": "5b4cc015",
   "metadata": {},
   "outputs": [
    {
     "name": "stdout",
     "output_type": "stream",
     "text": [
      "(0, 'f')\n",
      "(1, 'g')\n",
      "(2, 'h')\n",
      "(3, 'i')\n",
      "(4, 'j')\n",
      "(5, 'k')\n",
      "(6, 'l')\n"
     ]
    }
   ],
   "source": [
    "word = 'fghijkl'\n",
    "for peach in enumerate(word):\n",
    "    print(peach)\n"
   ]
  },
  {
   "cell_type": "code",
   "execution_count": 23,
   "id": "4ab41cc4",
   "metadata": {},
   "outputs": [],
   "source": [
    "cherries = [1,2,3]\n",
    "peaches = ['a','b','c']\n",
    "gold = [7,77,777,7777,77777]"
   ]
  },
  {
   "cell_type": "code",
   "execution_count": 24,
   "id": "e6b8ee0e",
   "metadata": {},
   "outputs": [
    {
     "name": "stdout",
     "output_type": "stream",
     "text": [
      "('a', 7, 1)\n",
      "('b', 77, 2)\n",
      "('c', 777, 3)\n"
     ]
    }
   ],
   "source": [
    "for basket in zip(peaches,gold,cherries):\n",
    "    print(basket)"
   ]
  },
  {
   "cell_type": "code",
   "execution_count": 26,
   "id": "f750ade6",
   "metadata": {},
   "outputs": [
    {
     "data": {
      "text/plain": [
       "[(7, 'a', 1), (77, 'b', 2), (777, 'c', 3)]"
      ]
     },
     "execution_count": 26,
     "metadata": {},
     "output_type": "execute_result"
    }
   ],
   "source": [
    "list(zip(gold,peaches,cherries))"
   ]
  },
  {
   "cell_type": "code",
   "execution_count": 27,
   "id": "0c6393b5",
   "metadata": {},
   "outputs": [],
   "source": [
    "from random import shuffle"
   ]
  },
  {
   "cell_type": "code",
   "execution_count": 28,
   "id": "3ba271c2",
   "metadata": {},
   "outputs": [],
   "source": [
    "peaches_for_free = [1,2,3,4,5,6,7,8,9,10]"
   ]
  },
  {
   "cell_type": "code",
   "execution_count": 29,
   "id": "baa3a428",
   "metadata": {},
   "outputs": [],
   "source": [
    "shuffle(peaches_for_free)"
   ]
  },
  {
   "cell_type": "code",
   "execution_count": 30,
   "id": "cbd2be74",
   "metadata": {},
   "outputs": [
    {
     "data": {
      "text/plain": [
       "[8, 5, 9, 7, 6, 10, 2, 1, 4, 3]"
      ]
     },
     "execution_count": 30,
     "metadata": {},
     "output_type": "execute_result"
    }
   ],
   "source": [
    "peaches_for_free"
   ]
  },
  {
   "cell_type": "markdown",
   "id": "3210d87a",
   "metadata": {},
   "source": [
    "things like shuffle are in place functions"
   ]
  },
  {
   "cell_type": "code",
   "execution_count": 31,
   "id": "672bee51",
   "metadata": {},
   "outputs": [],
   "source": [
    "from random import randint"
   ]
  },
  {
   "cell_type": "code",
   "execution_count": 32,
   "id": "bb6f882a",
   "metadata": {},
   "outputs": [
    {
     "data": {
      "text/plain": [
       "712"
      ]
     },
     "execution_count": 32,
     "metadata": {},
     "output_type": "execute_result"
    }
   ],
   "source": [
    "randint(7,777)"
   ]
  },
  {
   "cell_type": "code",
   "execution_count": 33,
   "id": "c28b1b52",
   "metadata": {},
   "outputs": [
    {
     "data": {
      "text/plain": [
       "736"
      ]
     },
     "execution_count": 33,
     "metadata": {},
     "output_type": "execute_result"
    }
   ],
   "source": [
    "randint(7,777)"
   ]
  },
  {
   "cell_type": "code",
   "execution_count": 34,
   "id": "05539e9b",
   "metadata": {},
   "outputs": [],
   "source": [
    "honey = randint(6,666)"
   ]
  },
  {
   "cell_type": "code",
   "execution_count": 35,
   "id": "91ddf82f",
   "metadata": {},
   "outputs": [
    {
     "data": {
      "text/plain": [
       "575"
      ]
     },
     "execution_count": 35,
     "metadata": {},
     "output_type": "execute_result"
    }
   ],
   "source": [
    "honey"
   ]
  },
  {
   "cell_type": "code",
   "execution_count": 41,
   "id": "9861c9e6",
   "metadata": {},
   "outputs": [
    {
     "name": "stdout",
     "output_type": "stream",
     "text": [
      "do you like walking: 42\n"
     ]
    }
   ],
   "source": [
    "truth = input('do you like walking: ')"
   ]
  },
  {
   "cell_type": "raw",
   "id": "052d28f8",
   "metadata": {},
   "source": [
    "truth"
   ]
  },
  {
   "cell_type": "code",
   "execution_count": 42,
   "id": "e41d1eca",
   "metadata": {},
   "outputs": [
    {
     "data": {
      "text/plain": [
       "42.0"
      ]
     },
     "execution_count": 42,
     "metadata": {},
     "output_type": "execute_result"
    }
   ],
   "source": [
    "float(truth)"
   ]
  },
  {
   "cell_type": "code",
   "execution_count": 43,
   "id": "5c3712ff",
   "metadata": {},
   "outputs": [
    {
     "data": {
      "text/plain": [
       "42"
      ]
     },
     "execution_count": 43,
     "metadata": {},
     "output_type": "execute_result"
    }
   ],
   "source": [
    "int(truth)"
   ]
  },
  {
   "cell_type": "code",
   "execution_count": 44,
   "id": "e650ca34",
   "metadata": {},
   "outputs": [
    {
     "name": "stdout",
     "output_type": "stream",
     "text": [
      "do you like walking: 42\n"
     ]
    }
   ],
   "source": [
    "truth = float(input('do you like walking: '))"
   ]
  },
  {
   "cell_type": "code",
   "execution_count": 45,
   "id": "8dbe9b6a",
   "metadata": {},
   "outputs": [
    {
     "data": {
      "text/plain": [
       "42.0"
      ]
     },
     "execution_count": 45,
     "metadata": {},
     "output_type": "execute_result"
    }
   ],
   "source": [
    "truth"
   ]
  },
  {
   "cell_type": "code",
   "execution_count": 46,
   "id": "6f5eae5b",
   "metadata": {},
   "outputs": [
    {
     "data": {
      "text/plain": [
       "float"
      ]
     },
     "execution_count": 46,
     "metadata": {},
     "output_type": "execute_result"
    }
   ],
   "source": [
    "type(truth)"
   ]
  },
  {
   "cell_type": "code",
   "execution_count": null,
   "id": "52b19192",
   "metadata": {},
   "outputs": [],
   "source": []
  }
 ],
 "metadata": {
  "kernelspec": {
   "display_name": "Python 3 (ipykernel)",
   "language": "python",
   "name": "python3"
  },
  "language_info": {
   "codemirror_mode": {
    "name": "ipython",
    "version": 3
   },
   "file_extension": ".py",
   "mimetype": "text/x-python",
   "name": "python",
   "nbconvert_exporter": "python",
   "pygments_lexer": "ipython3",
   "version": "3.11.3"
  }
 },
 "nbformat": 4,
 "nbformat_minor": 5
}
